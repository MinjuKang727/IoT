{
 "cells": [
  {
   "cell_type": "markdown",
   "id": "72124059",
   "metadata": {},
   "source": [
    "# OOP(Object Oriented Programming)\n",
    "- 객체 지향 프로그래밍\n",
    "- class : 객체를 만들기 위한 설계도\n",
    "- Object : 설계도로부터 만들어지는 개념\n",
    "- Instance : 설계도로부터 실체화된(구현화된) 객체"
   ]
  },
  {
   "cell_type": "code",
   "execution_count": 10,
   "id": "d144c267",
   "metadata": {},
   "outputs": [],
   "source": [
    "class house :\n",
    "    # class 내부 요소 : 멤버(member)\n",
    "    # 멤버 변수\n",
    "    \n",
    "    toilet = 2\n",
    "    room = 4\n",
    "    floor = 2\n",
    "    garret = True # 다락방\n",
    "    \n",
    "    # 멤버 함수\n",
    "    def information(self) :\n",
    "        print(f'화장실 : {self.toilet}개')\n",
    "        print(f'방 : {self.room}개')\n",
    "        print(f'층 : {self.floor}개')\n",
    "        print(f'다락방 : {self.garret}')\n",
    "        # java : compile 언어 - 전체 코드를 한번에 모두 번역\n",
    "        # python : interpreter 언어 - 한줄 한줄 번역하여 올라감       "
   ]
  },
  {
   "cell_type": "code",
   "execution_count": 14,
   "id": "0c9cbf57",
   "metadata": {},
   "outputs": [
    {
     "name": "stdout",
     "output_type": "stream",
     "text": [
      "화장실 : 2개\n",
      "방 : 4개\n",
      "층 : 2개\n",
      "다락방 : True\n",
      "-----------------------\n",
      "화장실 : 2개\n",
      "방 : 4개\n",
      "층 : 2개\n",
      "다락방 : True\n"
     ]
    }
   ],
   "source": [
    "minju_house = house()\n",
    "minju_house.information()\n",
    "\n",
    "print('-----------------------')\n",
    "\n",
    "\n",
    "parrent_house = house()\n",
    "parrent_house.information()"
   ]
  },
  {
   "cell_type": "code",
   "execution_count": 18,
   "id": "946ee861",
   "metadata": {},
   "outputs": [
    {
     "name": "stdout",
     "output_type": "stream",
     "text": [
      "화장실 : 0개\n",
      "방 : 5개\n",
      "층 : 2개\n",
      "다락방 : True\n",
      "-----------------------\n",
      "화장실 : 2개\n",
      "방 : 4개\n",
      "층 : 2개\n",
      "다락방 : True\n"
     ]
    }
   ],
   "source": [
    "minju_house.room = 5\n",
    "minju_house.toilet -= 1\n",
    "minju_house.information()\n",
    "\n",
    "print('-----------------------')\n",
    "\n",
    "parrent_house.information()"
   ]
  },
  {
   "cell_type": "code",
   "execution_count": 129,
   "id": "73a83103",
   "metadata": {},
   "outputs": [],
   "source": [
    "class cat :\n",
    "    # 접근 제한자(Access Modifier) :\n",
    "        # __속성명(Private한 상태), _속성명(private이나 자식 클래스에서 상속받아 사용 가능) >> 정보 은닉(Incapsulation, 캡슐화)\n",
    "        # 속성명(Public한 상태)  \n",
    "    # 이름, 좋아하는 사료, 무늬, 털색깔\n",
    "    _name, best_food, pattern, hair_color = None, None, None, None\n",
    "    \n",
    "    # 울음 소리, 먹이를 먹다.\n",
    "    def cry(self) :\n",
    "        print('야옹')\n",
    "    def eat(self) :\n",
    "        print('냠냠')\n",
    "    def info(self) :\n",
    "        print(f'이름 : {self._name}\\t좋아하는 사료 : {self.best_food}\\t무늬 : {self.pattern}\\t털색 : {self.hair_color}')\n",
    "    \n",
    "    # 생성자(Constructor)\n",
    "    # 객체가 생성될 때 자동으로 호출\n",
    "    def __init__(self, name, best_food, pattern, hair_color) :\n",
    "        self._name = name            # 이름\n",
    "        self.best_food = best_food  # 좋아하는 사료\n",
    "        self.pattern = pattern      # 무늬\n",
    "        self.hair_color = hair_color# 털 색깔"
   ]
  },
  {
   "cell_type": "code",
   "execution_count": 134,
   "id": "2e8bb284",
   "metadata": {},
   "outputs": [],
   "source": [
    "neighbor_cat = cat('구름', '애기 사료', ' 없음', '흰색')"
   ]
  },
  {
   "cell_type": "code",
   "execution_count": 135,
   "id": "62cb3669",
   "metadata": {
    "scrolled": true
   },
   "outputs": [
    {
     "name": "stdout",
     "output_type": "stream",
     "text": [
      "이름 : 구름\t좋아하는 사료 : 애기 사료\t무늬 :  없음\t털색 : 흰색\n"
     ]
    }
   ],
   "source": [
    "neighbor_cat.info()"
   ]
  },
  {
   "cell_type": "code",
   "execution_count": 136,
   "id": "3e1c464b",
   "metadata": {},
   "outputs": [
    {
     "name": "stdout",
     "output_type": "stream",
     "text": [
      "이름 : 구름\t좋아하는 사료 : 애기 사료\t무늬 :  없음\t털색 : 흰색\n"
     ]
    }
   ],
   "source": [
    "neighbor_cat.name = '후추' # 접근제한자로 인해 이름 수정 불가\n",
    "neighbor_cat.info()"
   ]
  },
  {
   "cell_type": "code",
   "execution_count": 137,
   "id": "897afeaa",
   "metadata": {},
   "outputs": [
    {
     "name": "stdout",
     "output_type": "stream",
     "text": [
      "야옹\n"
     ]
    }
   ],
   "source": [
    "neighbor_cat.cry()"
   ]
  },
  {
   "cell_type": "code",
   "execution_count": 138,
   "id": "72922365",
   "metadata": {
    "scrolled": true
   },
   "outputs": [
    {
     "name": "stdout",
     "output_type": "stream",
     "text": [
      "냠냠\n"
     ]
    }
   ],
   "source": [
    "neighbor_cat.eat()"
   ]
  },
  {
   "cell_type": "markdown",
   "id": "1c0c2737",
   "metadata": {},
   "source": [
    "### 추상화(Abstraction) : 특정한 세부 사항을 듣고 이 객체를 떠올릴 수 있게 만드는 것\n",
    "- 객체의 공통적인 특징을 추출하는 작업\n",
    "- 단, 너무 세부적인 정보 배제\n",
    "\n",
    "### 상속(Inheritance)\n",
    "- 부모 클래스의 멤버(변수, 함수)를 물려 받아\n",
    "- 자식 클래스를 정의\n",
    "\n",
    "### 캡슐화(Encapsulation)\n",
    "- 개발자가 원하는 변수, 함수만 접근할 수 있도록\n",
    "- 정보를 제한\n",
    "\n",
    "### 다형성(Polymophism)\n",
    "- 다양한 형태를 나타낼 수 있는 능력"
   ]
  },
  {
   "cell_type": "code",
   "execution_count": 139,
   "id": "42454032",
   "metadata": {},
   "outputs": [],
   "source": [
    "class Siamese(cat) :\n",
    "    hair_color = '투톤'\n",
    "    \n",
    "    def __init__(self, name, best_food, pattern) :\n",
    "        self._name = name\n",
    "        self.best_food = best_food\n",
    "        self.pattern = pattern"
   ]
  },
  {
   "cell_type": "code",
   "execution_count": 140,
   "id": "6a43348e",
   "metadata": {},
   "outputs": [
    {
     "name": "stdout",
     "output_type": "stream",
     "text": [
      "이름 : 샤오미\t좋아하는 사료 : 츄르\t무늬 : 코코아 빙수\t털색 : 투톤\n"
     ]
    }
   ],
   "source": [
    "shaomi = Siamese('샤오미', '츄르', '코코아 빙수')\n",
    "shaomi.info()"
   ]
  },
  {
   "cell_type": "code",
   "execution_count": 143,
   "id": "befd58c9",
   "metadata": {},
   "outputs": [],
   "source": [
    "class calculator :\n",
    "#     def add(self, num1 : str, num2 : str) :\n",
    "#         return int(self.num1) + int(self.num2)\n",
    "    def add(self, num1 : int, num2 : str) -> int :\n",
    "        return num1 + int(num2)\n",
    "    def add(self, num1 : str, num2 : int) -> int :\n",
    "        return int(num1) + num2"
   ]
  },
  {
   "cell_type": "code",
   "execution_count": 144,
   "id": "4cbdfdd0",
   "metadata": {},
   "outputs": [
    {
     "name": "stdout",
     "output_type": "stream",
     "text": [
      "8\n"
     ]
    },
    {
     "ename": "TypeError",
     "evalue": "unsupported operand type(s) for +: 'int' and 'str'",
     "output_type": "error",
     "traceback": [
      "\u001b[1;31m---------------------------------------------------------------------------\u001b[0m",
      "\u001b[1;31mTypeError\u001b[0m                                 Traceback (most recent call last)",
      "Input \u001b[1;32mIn [144]\u001b[0m, in \u001b[0;36m<cell line: 5>\u001b[1;34m()\u001b[0m\n\u001b[0;32m      2\u001b[0m \u001b[38;5;66;03m# print(cal.add(3,5)) #\u001b[39;00m\n\u001b[0;32m      3\u001b[0m \u001b[38;5;66;03m# print(cal.add('3','5'))\u001b[39;00m\n\u001b[0;32m      4\u001b[0m \u001b[38;5;28mprint\u001b[39m(cal\u001b[38;5;241m.\u001b[39madd(\u001b[38;5;124m'\u001b[39m\u001b[38;5;124m3\u001b[39m\u001b[38;5;124m'\u001b[39m,\u001b[38;5;241m5\u001b[39m))\n\u001b[1;32m----> 5\u001b[0m \u001b[38;5;28mprint\u001b[39m(\u001b[43mcal\u001b[49m\u001b[38;5;241;43m.\u001b[39;49m\u001b[43madd\u001b[49m\u001b[43m(\u001b[49m\u001b[38;5;241;43m3\u001b[39;49m\u001b[43m,\u001b[49m\u001b[38;5;124;43m'\u001b[39;49m\u001b[38;5;124;43m5\u001b[39;49m\u001b[38;5;124;43m'\u001b[39;49m\u001b[43m)\u001b[49m)\n",
      "Input \u001b[1;32mIn [143]\u001b[0m, in \u001b[0;36mcalculator.add\u001b[1;34m(self, num1, num2)\u001b[0m\n\u001b[0;32m      6\u001b[0m \u001b[38;5;28;01mdef\u001b[39;00m \u001b[38;5;21madd\u001b[39m(\u001b[38;5;28mself\u001b[39m, num1 : \u001b[38;5;28mstr\u001b[39m, num2 : \u001b[38;5;28mint\u001b[39m) \u001b[38;5;241m-\u001b[39m\u001b[38;5;241m>\u001b[39m \u001b[38;5;28mint\u001b[39m :\n\u001b[1;32m----> 7\u001b[0m     \u001b[38;5;28;01mreturn\u001b[39;00m \u001b[38;5;28;43mint\u001b[39;49m\u001b[43m(\u001b[49m\u001b[43mnum1\u001b[49m\u001b[43m)\u001b[49m\u001b[43m \u001b[49m\u001b[38;5;241;43m+\u001b[39;49m\u001b[43m \u001b[49m\u001b[43mnum2\u001b[49m\n",
      "\u001b[1;31mTypeError\u001b[0m: unsupported operand type(s) for +: 'int' and 'str'"
     ]
    }
   ],
   "source": [
    "cal = calculator()\n",
    "# print(cal.add(3,5)) #\n",
    "# print(cal.add('3','5'))\n",
    "print(cal.add('3',5))\n",
    "print(cal.add(3,'5'))"
   ]
  },
  {
   "cell_type": "code",
   "execution_count": null,
   "id": "c587568a",
   "metadata": {},
   "outputs": [],
   "source": []
  },
  {
   "cell_type": "code",
   "execution_count": null,
   "id": "83b76ca2",
   "metadata": {},
   "outputs": [],
   "source": []
  },
  {
   "cell_type": "code",
   "execution_count": null,
   "id": "2c4e457c",
   "metadata": {},
   "outputs": [],
   "source": []
  }
 ],
 "metadata": {
  "kernelspec": {
   "display_name": "Python 3 (ipykernel)",
   "language": "python",
   "name": "python3"
  },
  "language_info": {
   "codemirror_mode": {
    "name": "ipython",
    "version": 3
   },
   "file_extension": ".py",
   "mimetype": "text/x-python",
   "name": "python",
   "nbconvert_exporter": "python",
   "pygments_lexer": "ipython3",
   "version": "3.9.12"
  },
  "toc": {
   "base_numbering": 1,
   "nav_menu": {},
   "number_sections": false,
   "sideBar": true,
   "skip_h1_title": false,
   "title_cell": "Table of Contents",
   "title_sidebar": "Contents",
   "toc_cell": false,
   "toc_position": {},
   "toc_section_display": true,
   "toc_window_display": true
  }
 },
 "nbformat": 4,
 "nbformat_minor": 5
}
