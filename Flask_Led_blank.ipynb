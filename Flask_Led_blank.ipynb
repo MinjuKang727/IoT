{
 "cells": [
  {
   "cell_type": "markdown",
   "id": "71f9bf8f",
   "metadata": {},
   "source": [
    "### Flask Server\n",
    "- Python 언어 기반 마이크로 웹 프레임워크"
   ]
  },
  {
   "cell_type": "code",
   "execution_count": null,
   "id": "f16b8e84",
   "metadata": {},
   "outputs": [
    {
     "name": "stdout",
     "output_type": "stream",
     "text": [
      " * Serving Flask app \"__main__\" (lazy loading)\n",
      " * Environment: production\n",
      "\u001b[31m   WARNING: This is a development server. Do not use it in a production deployment.\u001b[0m\n",
      "\u001b[2m   Use a production WSGI server instead.\u001b[0m\n",
      " * Debug mode: off\n"
     ]
    },
    {
     "name": "stderr",
     "output_type": "stream",
     "text": [
      " * Running on http://192.168.244.6:5028/ (Press CTRL+C to quit)\n",
      "192.168.244.6 - - [01/Aug/2022 17:57:44] \"GET / HTTP/1.1\" 200 -\n",
      "192.168.244.6 - - [01/Aug/2022 17:57:45] \"GET /favicon.ico HTTP/1.1\" 404 -\n"
     ]
    }
   ],
   "source": [
    "from flask import Flask, render_template\n",
    "\n",
    "app = Flask(__name__)\n",
    "\n",
    "led = '-1'  # 전역변수(Global Variable) : 초기 값은 -1 or 2를 씀\n",
    "\n",
    "@app.route('/')\n",
    "def index() :\n",
    "    return render_template('index.html')\n",
    "@app.route('/led/status')\n",
    "def state() :\n",
    "    global led # global led 선언하지 않으면 return led의 led를 지역변수로 보고 아무것도 출력X\n",
    "    print(f'현재 led 상태 : {led}')\n",
    "    return led \n",
    "\n",
    "@app.route('/led/on')\n",
    "def led_on() :\n",
    "    global led\n",
    "    led = '1' # 지역변수(Local Variable)\n",
    "    print('LED 켜짐')\n",
    "    return 'LED ON'\n",
    "          \n",
    "@app.route('/led/off')\n",
    "def led_off():\n",
    "    global led\n",
    "    led = '0'\n",
    "    print('LED 꺼짐')\n",
    "    return 'LED OFF'\n",
    "\n",
    "if __name__ == '__main__' :\n",
    "    app.run(host = '192.168.244.6', port = 5028)\n",
    "    \n",
    "    # port 번호 :  Raseberry: 50~  / NOdejs :"
   ]
  },
  {
   "cell_type": "code",
   "execution_count": null,
   "id": "9e01cf8e",
   "metadata": {},
   "outputs": [],
   "source": []
  }
 ],
 "metadata": {
  "kernelspec": {
   "display_name": "Python 3 (ipykernel)",
   "language": "python",
   "name": "python3"
  },
  "language_info": {
   "codemirror_mode": {
    "name": "ipython",
    "version": 3
   },
   "file_extension": ".py",
   "mimetype": "text/x-python",
   "name": "python",
   "nbconvert_exporter": "python",
   "pygments_lexer": "ipython3",
   "version": "3.9.12"
  },
  "toc": {
   "base_numbering": 1,
   "nav_menu": {},
   "number_sections": true,
   "sideBar": true,
   "skip_h1_title": false,
   "title_cell": "Table of Contents",
   "title_sidebar": "Contents",
   "toc_cell": false,
   "toc_position": {},
   "toc_section_display": true,
   "toc_window_display": false
  }
 },
 "nbformat": 4,
 "nbformat_minor": 5
}
